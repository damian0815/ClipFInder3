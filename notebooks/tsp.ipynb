{
 "cells": [
  {
   "cell_type": "code",
   "id": "initial_id",
   "metadata": {
    "collapsed": true,
    "ExecuteTime": {
     "end_time": "2025-08-28T10:16:07.237835Z",
     "start_time": "2025-08-28T10:16:07.216635Z"
    }
   },
   "source": [
    "from tsp_solver.greedy import solve_tsp\n",
    "import torch\n",
    "page_embeddings = torch.randn(100, 512)\n",
    "\n",
    "# tsp\n"
   ],
   "outputs": [],
   "execution_count": 2
  },
  {
   "metadata": {
    "ExecuteTime": {
     "end_time": "2025-08-28T10:16:09.079378Z",
     "start_time": "2025-08-28T10:16:08.418227Z"
    }
   },
   "cell_type": "code",
   "source": [
    "from tsp_solver.greedy import solve_tsp\n",
    "distance_matrix = 1 - torch.matmul(page_embeddings, page_embeddings.T)\n",
    "path = solve_tsp(distance_matrix, endpoints=(0, page_embeddings.shape[0]-1))\n",
    "print(path)"
   ],
   "id": "f83645e4e3a4f194",
   "outputs": [
    {
     "name": "stdout",
     "output_type": "stream",
     "text": [
      "[0, 93, 2, 64, 72, 76, 25, 21, 43, 61, 97, 18, 45, 1, 68, 63, 74, 50, 40, 49, 10, 91, 5, 71, 95, 96, 28, 88, 59, 73, 55, 30, 98, 89, 78, 85, 83, 32, 52, 3, 44, 12, 67, 6, 13, 14, 19, 82, 54, 46, 69, 48, 94, 70, 57, 4, 16, 60, 20, 66, 75, 17, 7, 39, 34, 37, 23, 24, 87, 22, 86, 90, 62, 58, 53, 11, 29, 41, 9, 38, 81, 27, 15, 65, 47, 51, 79, 42, 8, 33, 31, 84, 35, 56, 36, 92, 26, 80, 77, 99]\n"
     ]
    }
   ],
   "execution_count": 3
  },
  {
   "metadata": {
    "ExecuteTime": {
     "end_time": "2025-08-28T12:01:59.430745Z",
     "start_time": "2025-08-28T12:01:59.331081Z"
    }
   },
   "cell_type": "code",
   "source": "page_embeddings.shape\n",
   "id": "5ade36533f48bcee",
   "outputs": [
    {
     "data": {
      "text/plain": [
       "torch.Size([100, 512])"
      ]
     },
     "execution_count": 4,
     "metadata": {},
     "output_type": "execute_result"
    }
   ],
   "execution_count": 4
  },
  {
   "metadata": {
    "ExecuteTime": {
     "end_time": "2025-08-28T12:02:41.313474Z",
     "start_time": "2025-08-28T12:02:41.202991Z"
    }
   },
   "cell_type": "code",
   "source": "page_embeddings[:4]",
   "id": "bc7b090a4b2ffbed",
   "outputs": [
    {
     "data": {
      "text/plain": [
       "tensor([[-1.1046, -1.2527, -0.1553,  ..., -0.8748, -2.3633, -0.7665],\n",
       "        [-0.9851,  0.5123,  0.2101,  ..., -0.7087, -1.5597, -2.7528],\n",
       "        [-0.0089, -1.2958,  1.3167,  ...,  0.7459, -1.3162, -0.7684],\n",
       "        [-0.9076,  0.5373, -0.7236,  ..., -1.8741, -0.1846,  0.7369]])"
      ]
     },
     "execution_count": 5,
     "metadata": {},
     "output_type": "execute_result"
    }
   ],
   "execution_count": 5
  },
  {
   "metadata": {
    "ExecuteTime": {
     "end_time": "2025-08-28T12:03:01.064132Z",
     "start_time": "2025-08-28T12:03:01.012870Z"
    }
   },
   "cell_type": "code",
   "source": [
    "index = 2\n",
    "page_embeddings[torch.arange(page_embeddings.shape[0]) != index][:4]"
   ],
   "id": "c76f24bf26055f70",
   "outputs": [
    {
     "data": {
      "text/plain": [
       "tensor([[-1.1046, -1.2527, -0.1553,  ..., -0.8748, -2.3633, -0.7665],\n",
       "        [-0.9851,  0.5123,  0.2101,  ..., -0.7087, -1.5597, -2.7528],\n",
       "        [-0.9076,  0.5373, -0.7236,  ..., -1.8741, -0.1846,  0.7369],\n",
       "        [ 0.5716,  1.9660,  0.4616,  ...,  0.7688, -1.1503,  0.1121]])"
      ]
     },
     "execution_count": 7,
     "metadata": {},
     "output_type": "execute_result"
    }
   ],
   "execution_count": 7
  },
  {
   "metadata": {},
   "cell_type": "code",
   "outputs": [],
   "execution_count": null,
   "source": "",
   "id": "93f4aa0e351b5830"
  }
 ],
 "metadata": {
  "kernelspec": {
   "display_name": "Python 3",
   "language": "python",
   "name": "python3"
  },
  "language_info": {
   "codemirror_mode": {
    "name": "ipython",
    "version": 2
   },
   "file_extension": ".py",
   "mimetype": "text/x-python",
   "name": "python",
   "nbconvert_exporter": "python",
   "pygments_lexer": "ipython2",
   "version": "2.7.6"
  }
 },
 "nbformat": 4,
 "nbformat_minor": 5
}
